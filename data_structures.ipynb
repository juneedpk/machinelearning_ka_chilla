{
  "nbformat": 4,
  "nbformat_minor": 0,
  "metadata": {
    "colab": {
      "name": "Untitled4.ipynb",
      "provenance": [],
      "authorship_tag": "ABX9TyOlUjK8Z1oMP7jDiVNwIV9O",
      "include_colab_link": true
    },
    "kernelspec": {
      "name": "python3",
      "display_name": "Python 3"
    },
    "language_info": {
      "name": "python"
    }
  },
  "cells": [
    {
      "cell_type": "markdown",
      "metadata": {
        "id": "view-in-github",
        "colab_type": "text"
      },
      "source": [
        "<a href=\"https://colab.research.google.com/github/juneedpk/machinelearning_ka_chilla/blob/master/data_structures.ipynb\" target=\"_parent\"><img src=\"https://colab.research.google.com/assets/colab-badge.svg\" alt=\"Open In Colab\"/></a>"
      ]
    },
    {
      "cell_type": "code",
      "source": [
        "\n",
        "data1 = {'name':'junaid','age':5,'place':'lahore','office':\"samnabad town\"}\n",
        "\n",
        "data2 = {'name':'waqas','age':19,'place':'karachi','office':'ravi town'}\n",
        "\n",
        "d3 = {**data1,**data2}\n",
        "\n",
        "d3\n"
      ],
      "metadata": {
        "colab": {
          "base_uri": "https://localhost:8080/"
        },
        "id": "jumsy_dFfGWu",
        "outputId": "959f2f45-5bf7-4e07-f147-ded84ec094a2"
      },
      "execution_count": 126,
      "outputs": [
        {
          "output_type": "execute_result",
          "data": {
            "text/plain": [
              "{'age': 19, 'name': 'waqas', 'office': 'ravi town', 'place': 'karachi'}"
            ]
          },
          "metadata": {},
          "execution_count": 126
        }
      ]
    }
  ]
}